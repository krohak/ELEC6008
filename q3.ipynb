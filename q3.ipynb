{
 "cells": [
  {
   "cell_type": "code",
   "execution_count": 1,
   "metadata": {
    "collapsed": true
   },
   "outputs": [],
   "source": [
    "import glob\n",
    "import re\n",
    "import numpy as np"
   ]
  },
  {
   "cell_type": "code",
   "execution_count": 2,
   "metadata": {
    "collapsed": true
   },
   "outputs": [],
   "source": [
    "fcf = glob.glob('./*.txt')"
   ]
  },
  {
   "cell_type": "code",
   "execution_count": 3,
   "metadata": {
    "collapsed": true
   },
   "outputs": [],
   "source": [
    "f = open('01.txt','r')\n",
    "text1 = f.read()"
   ]
  },
  {
   "cell_type": "code",
   "execution_count": 4,
   "metadata": {},
   "outputs": [
    {
     "name": "stdout",
     "output_type": "stream",
     "text": [
      "Features:  ['car', 'passenger', 'seat', 'drive', 'power', 'highway', 'purchase', 'hotel', 'room', 'night', 'staff', 'water', 'location']\n"
     ]
    }
   ],
   "source": [
    "f = open('feature.txt','r')\n",
    "features = f.read()\n",
    "features = re.split(r'[` \\n]', features)\n",
    "print(\"Features: \",features)"
   ]
  },
  {
   "cell_type": "code",
   "execution_count": 5,
   "metadata": {
    "collapsed": true
   },
   "outputs": [],
   "source": [
    "Xtrain = []"
   ]
  },
  {
   "cell_type": "code",
   "execution_count": 6,
   "metadata": {
    "collapsed": true
   },
   "outputs": [],
   "source": [
    "file_features = []\n",
    "for feature in features:\n",
    "    occurance = 0\n",
    "    for word in re.split(r'[` \\-=~!@#$%^&*()_+\\[\\]{};\\'\\\\:\"|<,./<>?]', text1):\n",
    "        if word == feature: occurance += 1\n",
    "    file_features.append(occurance)\n",
    "\n",
    "Xtrain.append(file_features)"
   ]
  },
  {
   "cell_type": "code",
   "execution_count": 7,
   "metadata": {},
   "outputs": [
    {
     "name": "stdout",
     "output_type": "stream",
     "text": [
      "Xtrain:  [[1, 1, 1, 0, 1, 1, 0, 0, 0, 0, 0, 0, 0]]\n",
      "['car', 'passenger', 'seat', 'drive', 'power', 'highway', 'purchase', 'hotel', 'room', 'night', 'staff', 'water', 'location']\n"
     ]
    }
   ],
   "source": [
    "print(\"Xtrain: \", Xtrain)\n",
    "print(features)"
   ]
  },
  {
   "cell_type": "code",
   "execution_count": 8,
   "metadata": {
    "collapsed": true
   },
   "outputs": [],
   "source": [
    "Xtrain = []"
   ]
  },
  {
   "cell_type": "code",
   "execution_count": 9,
   "metadata": {
    "collapsed": true
   },
   "outputs": [],
   "source": [
    "for file_number in range(1, 41):\n",
    "    \n",
    "    file_name = \"{:02d}.txt\".format(file_number)\n",
    "    f = open(file_name,'r')\n",
    "    text = f.read()\n",
    "    \n",
    "    file_features = []\n",
    "    for feature in features:\n",
    "        occurance = 0\n",
    "        for word in re.split(r'[` \\-=~!@#$%^&*()_+\\[\\]{};\\'\\\\:\"|<,./<>?]', text):\n",
    "            if word == feature: occurance += 1 \n",
    "        file_features.append(occurance)\n",
    "        \n",
    "    Xtrain.append(file_features)"
   ]
  },
  {
   "cell_type": "code",
   "execution_count": 10,
   "metadata": {},
   "outputs": [
    {
     "data": {
      "text/plain": [
       "(40, 13)"
      ]
     },
     "execution_count": 10,
     "metadata": {},
     "output_type": "execute_result"
    }
   ],
   "source": [
    "Xtrain = np.asarray(Xtrain)\n",
    "Xtrain.shape"
   ]
  },
  {
   "cell_type": "code",
   "execution_count": 11,
   "metadata": {},
   "outputs": [
    {
     "name": "stdout",
     "output_type": "stream",
     "text": [
      "Xtrain:  [[1 1 1 0 1 1 0 0 0 0 0 0 0]\n",
      " [1 1 2 0 1 0 1 0 0 0 0 0 0]\n",
      " [4 0 0 0 1 0 1 0 0 0 0 0 0]\n",
      " [0 0 0 0 0 0 0 0 0 0 0 0 0]\n",
      " [2 0 0 0 0 1 0 0 0 0 0 0 0]\n",
      " [0 0 0 0 0 0 1 0 0 0 0 0 0]\n",
      " [2 0 0 1 0 0 0 0 0 0 0 0 0]\n",
      " [1 0 0 0 1 0 0 0 0 0 0 0 0]\n",
      " [6 0 0 0 0 0 0 0 0 0 0 0 0]\n",
      " [1 0 0 0 0 0 0 0 0 0 0 0 0]\n",
      " [3 0 1 0 0 0 0 0 0 0 0 0 0]\n",
      " [0 0 0 1 1 0 0 0 0 0 0 0 0]\n",
      " [3 0 0 0 0 0 0 0 0 0 0 0 0]\n",
      " [1 0 0 2 0 0 0 0 0 0 0 0 0]\n",
      " [1 0 0 0 1 0 0 0 0 0 0 0 0]\n",
      " [1 0 0 2 0 1 0 0 0 1 0 0 0]\n",
      " [3 0 0 0 0 1 0 0 0 0 0 0 0]\n",
      " [3 0 0 2 0 0 0 0 0 0 0 0 0]\n",
      " [4 0 0 1 0 0 0 0 0 0 0 0 0]\n",
      " [0 0 1 0 0 1 1 0 0 0 0 0 0]\n",
      " [0 0 0 1 0 0 0 2 2 1 1 1 1]\n",
      " [0 0 0 0 0 0 0 0 0 1 0 0 1]\n",
      " [0 0 0 0 0 0 1 1 1 0 1 0 1]\n",
      " [0 0 0 0 0 0 0 3 0 1 0 0 0]\n",
      " [0 0 0 0 0 0 0 2 0 0 0 0 1]\n",
      " [0 0 0 0 0 0 0 1 4 0 1 0 0]\n",
      " [0 0 0 0 0 0 0 1 2 0 0 0 0]\n",
      " [0 0 0 0 0 0 0 1 1 0 0 0 1]\n",
      " [0 0 0 0 0 0 0 1 1 1 1 0 1]\n",
      " [0 0 0 0 0 0 0 3 1 0 1 0 1]\n",
      " [0 0 0 0 0 0 0 1 0 0 0 0 1]\n",
      " [0 0 0 0 0 0 0 2 3 0 0 0 0]\n",
      " [0 0 0 0 0 0 0 0 2 0 1 0 1]\n",
      " [0 0 0 0 0 0 0 3 3 0 1 0 1]\n",
      " [0 0 0 0 0 0 0 2 5 0 1 0 1]\n",
      " [0 0 0 0 0 0 0 3 1 1 0 0 0]\n",
      " [0 0 0 0 0 0 0 3 4 0 0 0 2]\n",
      " [0 0 0 0 0 0 0 1 0 0 1 0 0]\n",
      " [0 0 0 0 0 0 0 2 0 1 0 0 1]\n",
      " [0 0 0 0 0 0 0 1 0 0 0 0 1]]\n"
     ]
    }
   ],
   "source": [
    "print(\"Xtrain: \", Xtrain)"
   ]
  },
  {
   "cell_type": "code",
   "execution_count": 12,
   "metadata": {
    "collapsed": true
   },
   "outputs": [],
   "source": [
    "Xtest = []"
   ]
  },
  {
   "cell_type": "code",
   "execution_count": 13,
   "metadata": {
    "collapsed": true
   },
   "outputs": [],
   "source": [
    "for file_number in range(41, 51):\n",
    "    \n",
    "    file_name = \"{:02d}.txt\".format(file_number)\n",
    "    f = open(file_name,'r')\n",
    "    text = f.read()\n",
    "    \n",
    "    file_features = []\n",
    "    for feature in features:\n",
    "        occurance = 0\n",
    "        for word in re.split(r'[` \\-=~!@#$%^&*()_+\\[\\]{};\\'\\\\:\"|<,./<>?]', text):\n",
    "            if word == feature: occurance += 1 \n",
    "        file_features.append(occurance)\n",
    "        \n",
    "    Xtest.append(file_features)"
   ]
  },
  {
   "cell_type": "code",
   "execution_count": 14,
   "metadata": {},
   "outputs": [
    {
     "data": {
      "text/plain": [
       "(10, 13)"
      ]
     },
     "execution_count": 14,
     "metadata": {},
     "output_type": "execute_result"
    }
   ],
   "source": [
    "Xtest = np.asarray(Xtest)\n",
    "Xtest.shape"
   ]
  },
  {
   "cell_type": "code",
   "execution_count": 15,
   "metadata": {},
   "outputs": [
    {
     "name": "stdout",
     "output_type": "stream",
     "text": [
      "Xtest:  [[3 0 0 2 0 0 0 0 0 0 0 0 0]\n",
      " [0 0 0 0 0 0 0 0 2 0 0 1 1]\n",
      " [0 0 0 0 0 0 0 2 2 0 0 0 1]\n",
      " [7 0 0 0 1 0 0 0 0 0 0 0 0]\n",
      " [0 0 1 1 0 0 0 0 1 0 0 0 0]\n",
      " [2 0 0 0 0 0 0 0 0 0 0 0 0]\n",
      " [0 0 0 0 0 0 0 1 2 0 1 0 1]\n",
      " [0 0 0 0 0 0 0 0 5 0 0 0 1]\n",
      " [1 0 1 0 0 0 0 0 0 0 0 0 0]\n",
      " [0 0 0 0 0 0 0 0 2 0 1 0 1]]\n"
     ]
    }
   ],
   "source": [
    "print(\"Xtest: \", Xtest)"
   ]
  },
  {
   "cell_type": "markdown",
   "metadata": {},
   "source": [
    "## Q3"
   ]
  },
  {
   "cell_type": "code",
   "execution_count": 16,
   "metadata": {
    "collapsed": true
   },
   "outputs": [],
   "source": [
    "import matplotlib.pyplot as plt\n",
    "import matplotlib.colors\n",
    "from cvxopt import solvers\n",
    "from cvxopt import matrix"
   ]
  },
  {
   "cell_type": "code",
   "execution_count": 17,
   "metadata": {},
   "outputs": [
    {
     "data": {
      "text/plain": [
       "(40, 2)"
      ]
     },
     "execution_count": 17,
     "metadata": {},
     "output_type": "execute_result"
    }
   ],
   "source": [
    "# choose only \"car\" and \"hotel\" features\n",
    "Xtrain = np.concatenate((Xtrain[:20, [0,7]], -Xtrain[20:, [0, 7]]))\n",
    "Xtrain.shape"
   ]
  },
  {
   "cell_type": "code",
   "execution_count": 18,
   "metadata": {
    "collapsed": true
   },
   "outputs": [],
   "source": [
    "Y = np.append( np.ones((1, 20)), -np.ones((1, 20)))\n",
    "Y = Y.reshape(40,1)\n",
    "Y = np.concatenate((Y,Xtrain), axis=1)"
   ]
  },
  {
   "cell_type": "code",
   "execution_count": 19,
   "metadata": {},
   "outputs": [
    {
     "data": {
      "text/plain": [
       "(40, 3)"
      ]
     },
     "execution_count": 19,
     "metadata": {},
     "output_type": "execute_result"
    }
   ],
   "source": [
    "Y.shape"
   ]
  },
  {
   "cell_type": "markdown",
   "metadata": {},
   "source": [
    "## Using Perceptron"
   ]
  },
  {
   "cell_type": "code",
   "execution_count": 20,
   "metadata": {},
   "outputs": [
    {
     "name": "stdout",
     "output_type": "stream",
     "text": [
      "Final a = [[  2.  37. -33.]] after k=1000 iterations\n"
     ]
    }
   ],
   "source": [
    "a=np.zeros((Y.shape[1],1))\n",
    "\n",
    "# no. of misclassified samples\n",
    "sum_wrong=1\n",
    "\n",
    "#Perceptron\n",
    "a_iter=a\n",
    "k=0\n",
    "\n",
    "while sum_wrong>0 and k<1000:\n",
    "    \n",
    "    wrong=np.dot(Y,a_iter)<=0\n",
    "    sum_wrong=sum(wrong)\n",
    "#     print(\"sum wrong\",sum_wrong)\n",
    "    sum1=sum(wrong*np.ones((1,Y.shape[1]))*Y)    \n",
    "    a_iter=a_iter+sum1.reshape(Y.shape[1],1)\n",
    "    \n",
    "    k=k+1\n",
    "\n",
    "print(\"Final a = {} after k={} iterations\".format(np.transpose(a_iter), k, ))"
   ]
  },
  {
   "cell_type": "markdown",
   "metadata": {},
   "source": [
    "#### Perceptron does not converge with two features since this dataset containains an observation 0,0 [car, hotel] which belongs to both classes. This means that there is data with neither of the keywords \"car\" and \"hotel\" which belong to both the classes, and it is difficult for the perceptron, a linear classifier, to classify the data. Thus, the classifier cannot be obtained"
   ]
  },
  {
   "cell_type": "markdown",
   "metadata": {},
   "source": [
    "## Using SVM"
   ]
  },
  {
   "cell_type": "code",
   "execution_count": 21,
   "metadata": {
    "collapsed": true
   },
   "outputs": [],
   "source": [
    "A=matrix(Y,tc='d')\n",
    "b=matrix(-1*np.ones((A.size[0],1)),tc='d')\n",
    "\n",
    "q1=np.zeros((1,A.size[1]))\n",
    "Q2=np.concatenate((np.zeros((Xtrain.shape[1],1)), np.eye(Xtrain.shape[1])),axis=1)\n",
    "Q=np.concatenate((q1,Q2),axis=0)\n",
    "Q=matrix(2*Q,tc='d')\n",
    "\n",
    "q=matrix(np.zeros((A.size[1],1)),tc='d')"
   ]
  },
  {
   "cell_type": "code",
   "execution_count": 22,
   "metadata": {},
   "outputs": [
    {
     "name": "stdout",
     "output_type": "stream",
     "text": [
      "     pcost       dcost       gap    pres   dres\n",
      " 0:  3.4712e-01  3.5214e+01  1e+02  2e+00  8e+01\n",
      " 1:  2.4058e+00  1.4136e+01  6e+01  1e+00  4e+01\n",
      " 2:  2.4789e+00  8.7326e+02  7e+01  1e+00  4e+01\n",
      " 3:  2.5350e+00  8.1192e+04  7e+01  1e+00  4e+01\n",
      " 4:  2.5355e+00  5.8390e+08  1e+04  1e+00  4e+01\n",
      " 5:  2.5355e+00  3.1403e+13  6e+06  1e+00  4e+01\n",
      " 6:  2.5355e+00  1.6621e+20  3e+11  1e+00  4e+01\n",
      " 7:  2.5355e+00  8.7961e+28  2e+18  1e+00  4e+01\n",
      " 8:  2.5355e+00  4.6393e+39  9e+26  1e+00  6e+23\n",
      " 9:  2.5355e+00  2.4426e+52  5e+37  1e+00  4e+01\n",
      "10:  2.5355e+00  4.1578e+66  5e+51  1e+00  7e+50\n",
      "11:  2.5386e+00  3.1292e+81  6e+65  1e+00  2e+65\n",
      "12:  3.5191e+01  1.4134e+94  3e+78  1e+00  3e+78\n",
      "13:  2.4635e+04  1.1592e+98  2e+82  1e+00  2e+82\n",
      "14:  1.6129e+05  1.1997e+98  2e+82  1e+00  2e+82\n",
      "15:  1.6129e+05  2.2809e+112  4e+96  1e+00  2e+96\n",
      "16:  1.2540e+54  2.8418e+124  5e+108  7e+12  1e+12\n",
      "17:  6.0492e+57  7.2828e+135  1e+120  2e+13 2e+120\n",
      "18:  8.8580e+78  2.2802e+151  1e+135  7e+26  4e+24\n",
      "19:  5.3512e+98  9.8688e+183  7e+183  7e+33  2e+34\n",
      "20:  8.8950e+265 -8.8950e+265  2e+266 2e+120    inf\n",
      "21:  8.8950e+265 -8.8950e+265  2e+266 2e+120    inf\n",
      "22:  8.8950e+265 -8.8950e+265  2e+266 2e+120    inf\n",
      "23:  8.8950e+265 -8.8950e+265  2e+266 2e+120    inf\n",
      "24:  8.8950e+265 -8.8950e+265  2e+266 2e+120    inf\n",
      "25:  8.8950e+265 -8.8950e+265  2e+266 2e+120    inf\n",
      "26:  8.8950e+265 -8.8950e+265  2e+266 2e+120    inf\n",
      "27:  8.8950e+265 -8.8950e+265  2e+266 2e+120    inf\n",
      "28:  8.8950e+265 -8.8950e+265  2e+266 2e+120    inf\n",
      "29:  8.8950e+265 -8.8950e+265  2e+266 2e+120    inf\n",
      "30:  8.8950e+265 -8.8950e+265  2e+266 2e+120    inf\n",
      "31:  8.8950e+265 -8.8950e+265  2e+266 2e+120    inf\n",
      "32:  8.8950e+265 -8.8950e+265  2e+266 2e+120    inf\n",
      "33:  8.8950e+265 -8.8950e+265  2e+266 2e+120    inf\n",
      "34:  8.8950e+265 -8.8950e+265  2e+266 2e+120    inf\n",
      "35:  8.8950e+265 -8.8950e+265  2e+266 2e+120    inf\n",
      "36:  8.8950e+265 -8.8950e+265  2e+266 2e+120    inf\n",
      "37:  8.8950e+265 -8.8950e+265  2e+266 2e+120    inf\n",
      "38:  8.8950e+265 -8.8950e+265  2e+266 2e+120    inf\n",
      "39:  8.8950e+265 -8.8950e+265  2e+266 2e+120    inf\n",
      "40:  8.8950e+265 -8.8950e+265  2e+266 2e+120    inf\n",
      "41:  8.8950e+265 -8.8950e+265  2e+266 2e+120    inf\n",
      "42:  8.8950e+265 -8.8950e+265  2e+266 2e+120    inf\n",
      "43:  8.8950e+265 -8.8950e+265  2e+266 2e+120    inf\n",
      "44:  8.8950e+265 -8.8950e+265  2e+266 2e+120    inf\n",
      "45:  8.8950e+265 -8.8950e+265  2e+266 2e+120    inf\n",
      "46:  8.8950e+265 -8.8950e+265  2e+266 2e+120    inf\n",
      "47:  8.8950e+265 -8.8950e+265  2e+266 2e+120    inf\n",
      "48:  8.8950e+265 -8.8950e+265  2e+266 2e+120    inf\n",
      "49:  8.8950e+265 -8.8950e+265  2e+266 2e+120    inf\n",
      "50:  8.8950e+265 -8.8950e+265  2e+266 2e+120    inf\n",
      "51:  8.8950e+265 -8.8950e+265  2e+266 2e+120    inf\n",
      "52:  8.8950e+265 -8.8950e+265  2e+266 2e+120    inf\n",
      "53:  8.8950e+265 -8.8950e+265  2e+266 2e+120    inf\n",
      "54:  8.8950e+265 -8.8950e+265  2e+266 2e+120    inf\n",
      "55:  8.8950e+265 -8.8950e+265  2e+266 2e+120    inf\n",
      "56:  8.8950e+265 -8.8950e+265  2e+266 2e+120    inf\n",
      "57:  8.8950e+265 -8.8950e+265  2e+266 2e+120    inf\n",
      "58:  8.8950e+265 -8.8950e+265  2e+266 2e+120    inf\n",
      "59:  8.8950e+265 -8.8950e+265  2e+266 2e+120    inf\n",
      "60:  8.8950e+265 -8.8950e+265  2e+266 2e+120    inf\n",
      "61:  8.8950e+265 -8.8950e+265  2e+266 2e+120    inf\n",
      "62:  8.8950e+265 -8.8950e+265  2e+266 2e+120    inf\n",
      "63:  8.8950e+265 -8.8950e+265  2e+266 2e+120    inf\n",
      "64:  8.8950e+265 -8.8950e+265  2e+266 2e+120    inf\n",
      "65:  8.8950e+265 -8.8950e+265  2e+266 2e+120    inf\n",
      "66:  8.8950e+265 -8.8950e+265  2e+266 2e+120    inf\n",
      "67:  8.8950e+265 -8.8950e+265  2e+266 2e+120    inf\n",
      "68:  8.8950e+265 -8.8950e+265  2e+266 2e+120    inf\n",
      "69:  8.8950e+265 -8.8950e+265  2e+266 2e+120    inf\n",
      "70:  8.8950e+265 -8.8950e+265  2e+266 2e+120    inf\n",
      "71:  8.8950e+265 -8.8950e+265  2e+266 2e+120 7e+117\n",
      "72:  8.8950e+265 -8.8950e+265  2e+266 2e+120    inf\n",
      "73:  8.8950e+265 -8.8950e+265  2e+266 2e+120    inf\n",
      "74:  8.8950e+265 -8.8950e+265  2e+266 2e+120    inf\n",
      "75:  8.8950e+265 -8.8950e+265  2e+266 2e+120    inf\n",
      "76:  8.8950e+265 -8.8950e+265  2e+266 2e+120    inf\n",
      "77:  8.8950e+265 -8.8950e+265  2e+266 2e+120    inf\n",
      "78:  8.8950e+265 -8.8950e+265  2e+266 2e+120    inf\n",
      "79:  8.8950e+265 -8.8950e+265  2e+266 2e+120    inf\n",
      "80:  8.8950e+265 -8.8950e+265  2e+266 2e+120    inf\n",
      "81:  8.8950e+265 -8.8950e+265  2e+266 2e+120    inf\n",
      "82:  8.8950e+265 -8.8950e+265  2e+266 2e+120    inf\n",
      "83:  8.8950e+265 -8.8950e+265  2e+266 2e+120    inf\n",
      "84:  8.8950e+265 -8.8950e+265  2e+266 2e+120    inf\n",
      "85:  8.8950e+265 -8.8950e+265  2e+266 2e+120    inf\n",
      "86:  8.8950e+265 -8.8950e+265  2e+266 2e+120    inf\n",
      "87:  8.8950e+265 -8.8950e+265  2e+266 2e+120    inf\n",
      "88:  8.8950e+265 -8.8950e+265  2e+266 2e+120    inf\n",
      "89:  8.8950e+265 -8.8950e+265  2e+266 2e+120    inf\n",
      "90:  8.8950e+265 -8.8950e+265  2e+266 2e+120    inf\n",
      "91:  8.8950e+265 -8.8950e+265  2e+266 2e+120    inf\n",
      "92:  8.8950e+265 -8.8950e+265  2e+266 2e+120    inf\n",
      "93:  8.8950e+265 -8.8950e+265  2e+266 2e+120    inf\n",
      "94:  8.8950e+265 -8.8950e+265  2e+266 2e+120    inf\n",
      "95:  8.8950e+265 -8.8950e+265  2e+266 2e+120    inf\n",
      "96:  8.8950e+265 -8.8950e+265  2e+266 2e+120    inf\n",
      "97:  8.8950e+265 -8.8950e+265  2e+266 2e+120    inf\n",
      "98:  8.8950e+265 -8.8950e+265  2e+266 2e+120    inf\n",
      "99:  8.8950e+265 -8.8950e+265  2e+266 2e+120    inf\n",
      "100:  8.8950e+265 -8.8950e+265  2e+266 2e+120    inf\n",
      "Terminated (maximum number of iterations reached).\n"
     ]
    }
   ],
   "source": [
    "sol=solvers.qp(Q,q,A,b)"
   ]
  },
  {
   "cell_type": "markdown",
   "metadata": {},
   "source": [
    "#### SVM does not converge with two features since this dataset containains an observation 0,0 [car, hotel] which belongs to both classes. This means that there is data with neither of the keywords \"car\" and \"hotel\" which belong to both the classes, and it is difficult for the linear version of SVM to classify the data. Thus, we cannot obtain the classifier."
   ]
  },
  {
   "cell_type": "markdown",
   "metadata": {},
   "source": [
    "## Plotting the Data and Classifiers"
   ]
  },
  {
   "cell_type": "code",
   "execution_count": 23,
   "metadata": {},
   "outputs": [
    {
     "data": {
      "text/plain": [
       "array([ -1.06060606,  15.75757576,  32.57575758,  49.39393939,\n",
       "        66.21212121,  83.03030303,  99.84848485])"
      ]
     },
     "execution_count": 23,
     "metadata": {},
     "output_type": "execute_result"
    }
   ],
   "source": [
    "#Perceptron classifier\n",
    "a_con=a_iter\n",
    "x=np.arange(-1,100,15)\n",
    "y1 = -(a_con[0]+sum(a_con[1:-1]*x))/a_con[-1]\n",
    "y1"
   ]
  },
  {
   "cell_type": "code",
   "execution_count": 24,
   "metadata": {},
   "outputs": [
    {
     "data": {
      "text/plain": [
       "array([ -0.93584188,  13.10178627,  27.13941441,  41.17704256,\n",
       "        55.2146707 ,  69.25229885,  83.28992699])"
      ]
     },
     "execution_count": 24,
     "metadata": {},
     "output_type": "execute_result"
    }
   ],
   "source": [
    "#SVM classifier\n",
    "a_con=sol['x']\n",
    "y2=-(a_con[0]+a_con[1]*x)/a_con[2]\n",
    "y2"
   ]
  },
  {
   "cell_type": "code",
   "execution_count": 25,
   "metadata": {},
   "outputs": [
    {
     "data": {
      "image/png": "[encoded data removed]",
      "text/plain": [
       "<matplotlib.figure.Figure at 0x7f1674f21208>"
      ]
     },
     "metadata": {},
     "output_type": "display_data"
    }
   ],
   "source": [
    "axes = plt.gca()\n",
    "\n",
    "axes.set_xlim([-1,8])\n",
    "axes.set_ylim([-1,8])\n",
    "plt.xlabel(\"Car\")\n",
    "plt.ylabel(\"Hotel\")\n",
    "\n",
    "\n",
    "plt.scatter(Xtrain[0:20,0], Xtrain[0:20,1], color='k', label=\"Class 1: Car\")\n",
    "plt.scatter(Xtrain[20:,0], -Xtrain[20:,1], color='r', label= \"Class 2: Hotel\")\n",
    "\n",
    "# perceptron classifier\n",
    "plt.plot(x,y1, label=\"Perceptron\")\n",
    "\n",
    "plt.legend()\n",
    "plt.show()"
   ]
  },
  {
   "cell_type": "code",
   "execution_count": 27,
   "metadata": {},
   "outputs": [
    {
     "data": {
      "image/png": "[encoded data removed]",
      "text/plain": [
       "<matplotlib.figure.Figure at 0x7f1670476550>"
      ]
     },
     "metadata": {},
     "output_type": "display_data"
    }
   ],
   "source": [
    "axes = plt.gca()\n",
    "\n",
    "axes.set_xlim([-1,8])\n",
    "axes.set_ylim([-1,8])\n",
    "plt.xlabel(\"Car\")\n",
    "plt.ylabel(\"Hotel\")\n",
    "\n",
    "\n",
    "plt.scatter(Xtrain[0:20,0], Xtrain[0:20,1], color='k', label=\"Class 1: Car\")\n",
    "plt.scatter(Xtrain[20:,0], -Xtrain[20:,1], color='r', label= \"Class 2: Hotel\")\n",
    "\n",
    "# svm classifier\n",
    "plt.plot(x,y2, c=\"orangered\",label=\"SVM\")\n",
    "\n",
    "plt.legend()\n",
    "plt.show()"
   ]
  }
 ],
 "metadata": {
  "kernelspec": {
   "display_name": "Python 3",
   "language": "python",
   "name": "python3"
  },
  "language_info": {
   "codemirror_mode": {
    "name": "ipython",
    "version": 3
   },
   "file_extension": ".py",
   "mimetype": "text/x-python",
   "name": "python",
   "nbconvert_exporter": "python",
   "pygments_lexer": "ipython3",
   "version": "3.6.1"
  }
 },
 "nbformat": 4,
 "nbformat_minor": 2
}
