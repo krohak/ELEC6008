{
 "cells": [
  {
   "cell_type": "code",
   "execution_count": 1,
   "metadata": {
    "collapsed": true
   },
   "outputs": [],
   "source": [
    "import glob\n",
    "import re\n",
    "import numpy as np"
   ]
  },
  {
   "cell_type": "code",
   "execution_count": 2,
   "metadata": {
    "collapsed": true
   },
   "outputs": [],
   "source": [
    "fcf = glob.glob('./*.txt')"
   ]
  },
  {
   "cell_type": "code",
   "execution_count": 3,
   "metadata": {
    "collapsed": true
   },
   "outputs": [],
   "source": [
    "f = open('01.txt','r')\n",
    "text1 = f.read()"
   ]
  },
  {
   "cell_type": "code",
   "execution_count": 4,
   "metadata": {
    "collapsed": true
   },
   "outputs": [],
   "source": [
    "f = open('feature.txt','r')\n",
    "features = f.read()"
   ]
  },
  {
   "cell_type": "code",
   "execution_count": 5,
   "metadata": {},
   "outputs": [
    {
     "name": "stdout",
     "output_type": "stream",
     "text": [
      "['car', 'passenger', 'seat', 'drive', 'power', 'highway', 'purchase', 'hotel', 'room', 'night', 'staff', 'water', 'location']\n"
     ]
    }
   ],
   "source": [
    "feature_list = re.split(r'[` \\n]', features)\n",
    "print(feature_list)"
   ]
  },
  {
   "cell_type": "code",
   "execution_count": 6,
   "metadata": {
    "collapsed": true
   },
   "outputs": [],
   "source": [
    "Xtrain = []"
   ]
  },
  {
   "cell_type": "code",
   "execution_count": 7,
   "metadata": {
    "collapsed": true
   },
   "outputs": [],
   "source": [
    "file_features = []\n",
    "for feature in feature_list:\n",
    "    occurance = 0\n",
    "    for word in re.split(r'[` \\-=~!@#$%^&*()_+\\[\\]{};\\'\\\\:\"|<,./<>?]', text1):\n",
    "        if word == feature: occurance += 1\n",
    "    file_features.append(occurance)\n",
    "\n",
    "Xtrain.append(file_features)"
   ]
  },
  {
   "cell_type": "code",
   "execution_count": 8,
   "metadata": {},
   "outputs": [
    {
     "name": "stdout",
     "output_type": "stream",
     "text": [
      "[[1, 1, 1, 0, 1, 1, 0, 0, 0, 0, 0, 0, 0]]\n",
      "['car', 'passenger', 'seat', 'drive', 'power', 'highway', 'purchase', 'hotel', 'room', 'night', 'staff', 'water', 'location']\n"
     ]
    }
   ],
   "source": [
    "print(Xtrain)\n",
    "print(feature_list)"
   ]
  },
  {
   "cell_type": "code",
   "execution_count": 9,
   "metadata": {
    "collapsed": true
   },
   "outputs": [],
   "source": [
    "Xtrain = []"
   ]
  },
  {
   "cell_type": "code",
   "execution_count": 10,
   "metadata": {
    "collapsed": true
   },
   "outputs": [],
   "source": [
    "for file_number in range(1, 41):\n",
    "    \n",
    "    file_name = \"{:02d}.txt\".format(file_number)\n",
    "    f = open(file_name,'r')\n",
    "    text = f.read()\n",
    "    \n",
    "    file_features = []\n",
    "    for feature in feature_list:\n",
    "        occurance = 0\n",
    "        for word in re.split(r'[` \\-=~!@#$%^&*()_+\\[\\]{};\\'\\\\:\"|<,./<>?]', text):\n",
    "            if word == feature: occurance += 1 \n",
    "        file_features.append(occurance)\n",
    "        \n",
    "    Xtrain.append(file_features)"
   ]
  },
  {
   "cell_type": "code",
   "execution_count": 11,
   "metadata": {},
   "outputs": [
    {
     "data": {
      "text/plain": [
       "(40, 13)"
      ]
     },
     "execution_count": 11,
     "metadata": {},
     "output_type": "execute_result"
    }
   ],
   "source": [
    "Xtrain = np.asarray(Xtrain)\n",
    "Xtrain.shape"
   ]
  },
  {
   "cell_type": "code",
   "execution_count": 12,
   "metadata": {
    "collapsed": true
   },
   "outputs": [],
   "source": [
    "Xtest = []"
   ]
  },
  {
   "cell_type": "code",
   "execution_count": 13,
   "metadata": {
    "collapsed": true
   },
   "outputs": [],
   "source": [
    "for file_number in range(41, 51):\n",
    "    \n",
    "    file_name = \"{:02d}.txt\".format(file_number)\n",
    "    f = open(file_name,'r')\n",
    "    text = f.read()\n",
    "    \n",
    "    file_features = []\n",
    "    for feature in feature_list:\n",
    "        occurance = 0\n",
    "        for word in re.split(r'[` \\-=~!@#$%^&*()_+\\[\\]{};\\'\\\\:\"|<,./<>?]', text):\n",
    "            if word == feature: occurance += 1 \n",
    "        file_features.append(occurance)\n",
    "        \n",
    "    Xtest.append(file_features)"
   ]
  },
  {
   "cell_type": "code",
   "execution_count": 14,
   "metadata": {},
   "outputs": [
    {
     "data": {
      "text/plain": [
       "(10, 13)"
      ]
     },
     "execution_count": 14,
     "metadata": {},
     "output_type": "execute_result"
    }
   ],
   "source": [
    "Xtest = np.asarray(Xtest)\n",
    "Xtest.shape"
   ]
  },
  {
   "cell_type": "code",
   "execution_count": 15,
   "metadata": {
    "collapsed": true
   },
   "outputs": [],
   "source": [
    "Y = np.append( np.zeros((1, 20)), np.ones((1, 20)))\n",
    "Y = Y.reshape(40,1)\n",
    "\n",
    "Y = np.concatenate((Y,Xtrain), axis=1)"
   ]
  },
  {
   "cell_type": "code",
   "execution_count": 16,
   "metadata": {},
   "outputs": [
    {
     "data": {
      "text/plain": [
       "((40, 14), (40, 13))"
      ]
     },
     "execution_count": 16,
     "metadata": {},
     "output_type": "execute_result"
    }
   ],
   "source": [
    "Y.shape, Xtrain.shape"
   ]
  },
  {
   "cell_type": "markdown",
   "metadata": {},
   "source": [
    "## Q4"
   ]
  },
  {
   "cell_type": "code",
   "execution_count": 17,
   "metadata": {
    "collapsed": true
   },
   "outputs": [],
   "source": [
    "Xtrain = np.concatenate((Xtrain[:20], -Xtrain[20:]))"
   ]
  },
  {
   "cell_type": "code",
   "execution_count": 18,
   "metadata": {
    "collapsed": true
   },
   "outputs": [],
   "source": [
    "Y = np.append( np.ones((1, 20)), -np.ones((1, 20)))\n",
    "Y = Y.reshape(40,1)\n",
    "\n",
    "\n",
    "Y = np.concatenate((Y,Xtrain), axis=1)"
   ]
  },
  {
   "cell_type": "code",
   "execution_count": 19,
   "metadata": {},
   "outputs": [
    {
     "data": {
      "text/plain": [
       "(40, 14)"
      ]
     },
     "execution_count": 19,
     "metadata": {},
     "output_type": "execute_result"
    }
   ],
   "source": [
    "Y.shape"
   ]
  },
  {
   "cell_type": "markdown",
   "metadata": {
    "collapsed": true
   },
   "source": [
    "#### Using Perceptron"
   ]
  },
  {
   "cell_type": "code",
   "execution_count": 20,
   "metadata": {
    "collapsed": true
   },
   "outputs": [],
   "source": [
    "import numpy as np\n",
    "import matplotlib.pyplot as plt\n",
    "import matplotlib.colors"
   ]
  },
  {
   "cell_type": "code",
   "execution_count": 21,
   "metadata": {
    "collapsed": true
   },
   "outputs": [],
   "source": [
    "a=np.zeros((Y.shape[1],1))"
   ]
  },
  {
   "cell_type": "code",
   "execution_count": 22,
   "metadata": {},
   "outputs": [
    {
     "name": "stdout",
     "output_type": "stream",
     "text": [
      "sum wrong [40]\n",
      "sum wrong [1]\n",
      "sum wrong [0]\n",
      "Final a = [[  1.  37.   2.   5.   8.   6.   5.   3. -33. -30.  -5.  -9.  -1. -15.]] after k=3 iterations\n"
     ]
    }
   ],
   "source": [
    "# no. of misclassified samples\n",
    "sum_wrong=1\n",
    "\n",
    "#Perceptron\n",
    "a_iter=a\n",
    "k=0\n",
    "\n",
    "while sum_wrong>0 and k<1000:\n",
    "    \n",
    "    wrong=np.dot(Y,a_iter)<=0\n",
    "    sum_wrong=sum(wrong)\n",
    "    print(\"sum wrong\",sum_wrong)\n",
    "    sum1=sum(wrong*np.ones((1,Y.shape[1]))*Y)    \n",
    "    a_iter=a_iter+sum1.reshape(Y.shape[1],1)\n",
    "    \n",
    "    k=k+1\n",
    "\n",
    "print(\"Final a = {} after k={} iterations\".format(np.transpose(a_iter), k, ))"
   ]
  },
  {
   "cell_type": "code",
   "execution_count": 23,
   "metadata": {},
   "outputs": [
    {
     "data": {
      "text/plain": [
       "array([  6.66666667e-02,  -1.19333333e+01,  -2.39333333e+01,\n",
       "        -3.59333333e+01,  -4.79333333e+01,  -5.99333333e+01,\n",
       "        -7.19333333e+01])"
      ]
     },
     "execution_count": 23,
     "metadata": {},
     "output_type": "execute_result"
    }
   ],
   "source": [
    "#classifier\n",
    "\n",
    "a_con=a_iter\n",
    "x=np.arange(0,100,15)\n",
    "\n",
    "y = -(a_con[0]+sum(a_con[1:-1]*x))/a_con[-1]\n",
    "\n",
    "y"
   ]
  },
  {
   "cell_type": "code",
   "execution_count": 24,
   "metadata": {
    "collapsed": true
   },
   "outputs": [],
   "source": [
    "Xtest.shape\n",
    "\n",
    "Xtest_temp = np.concatenate((np.ones((10, 1)),Xtest), axis=1)"
   ]
  },
  {
   "cell_type": "code",
   "execution_count": 25,
   "metadata": {},
   "outputs": [
    {
     "data": {
      "text/plain": [
       "array([[ 128.,  -75., -140.,  266.,  -16.,   75., -116., -164.,   43.,\n",
       "         -83.]])"
      ]
     },
     "execution_count": 25,
     "metadata": {},
     "output_type": "execute_result"
    }
   ],
   "source": [
    "a_con=a_iter\n",
    "\n",
    "\n",
    "ans = np.dot(np.transpose(a_con), np.transpose(Xtest_temp))\n",
    "ans.shape, Xtest.shape\n",
    "\n",
    "ans"
   ]
  },
  {
   "cell_type": "markdown",
   "metadata": {},
   "source": [
    "#### Using SVM"
   ]
  },
  {
   "cell_type": "code",
   "execution_count": 26,
   "metadata": {
    "collapsed": true
   },
   "outputs": [],
   "source": [
    "import numpy as np\n",
    "import matplotlib.pyplot as plt\n",
    "import matplotlib.colors\n",
    "from cvxopt import solvers\n",
    "from cvxopt import matrix"
   ]
  },
  {
   "cell_type": "code",
   "execution_count": 27,
   "metadata": {},
   "outputs": [
    {
     "data": {
      "text/plain": [
       "(40, 13)"
      ]
     },
     "execution_count": 27,
     "metadata": {},
     "output_type": "execute_result"
    }
   ],
   "source": [
    "Xtrain.shape"
   ]
  },
  {
   "cell_type": "code",
   "execution_count": 28,
   "metadata": {},
   "outputs": [
    {
     "data": {
      "text/plain": [
       "<40x14 matrix, tc='d'>"
      ]
     },
     "execution_count": 28,
     "metadata": {},
     "output_type": "execute_result"
    }
   ],
   "source": [
    "A=matrix(Y,tc='d')\n",
    "A"
   ]
  },
  {
   "cell_type": "code",
   "execution_count": 29,
   "metadata": {},
   "outputs": [
    {
     "data": {
      "text/plain": [
       "<40x1 matrix, tc='d'>"
      ]
     },
     "execution_count": 29,
     "metadata": {},
     "output_type": "execute_result"
    }
   ],
   "source": [
    "b=matrix(-1*np.ones((A.size[0],1)),tc='d')\n",
    "b"
   ]
  },
  {
   "cell_type": "code",
   "execution_count": 30,
   "metadata": {},
   "outputs": [
    {
     "data": {
      "text/plain": [
       "array([[ 0.,  0.,  0.,  0.,  0.,  0.,  0.,  0.,  0.,  0.,  0.,  0.,  0.,\n",
       "         0.]])"
      ]
     },
     "execution_count": 30,
     "metadata": {},
     "output_type": "execute_result"
    }
   ],
   "source": [
    "q1=np.zeros((1,A.size[1]))\n",
    "q1"
   ]
  },
  {
   "cell_type": "code",
   "execution_count": 31,
   "metadata": {
    "collapsed": true
   },
   "outputs": [],
   "source": [
    "Q2=np.concatenate((np.zeros((Xtrain.shape[1],1)), np.eye(Xtrain.shape[1])),axis=1)\n",
    "# Q2"
   ]
  },
  {
   "cell_type": "code",
   "execution_count": 32,
   "metadata": {
    "collapsed": true
   },
   "outputs": [],
   "source": [
    "Q=np.concatenate((q1,Q2),axis=0)"
   ]
  },
  {
   "cell_type": "code",
   "execution_count": 33,
   "metadata": {
    "collapsed": true
   },
   "outputs": [],
   "source": [
    "# Q"
   ]
  },
  {
   "cell_type": "code",
   "execution_count": 34,
   "metadata": {
    "collapsed": true
   },
   "outputs": [],
   "source": [
    "Q=matrix(2*Q,tc='d')\n",
    "# Q"
   ]
  },
  {
   "cell_type": "code",
   "execution_count": 35,
   "metadata": {
    "collapsed": true
   },
   "outputs": [],
   "source": [
    "q=matrix(np.zeros((A.size[1],1)),tc='d')\n",
    "# q"
   ]
  },
  {
   "cell_type": "code",
   "execution_count": 36,
   "metadata": {},
   "outputs": [
    {
     "name": "stdout",
     "output_type": "stream",
     "text": [
      "     pcost       dcost       gap    pres   dres\n",
      " 0:  6.5331e-01  1.8617e+01  1e+02  2e+00  1e+02\n",
      " 1:  4.1640e+00 -1.4621e+01  3e+01  5e-01  3e+01\n",
      " 2:  5.4075e+00  2.5870e+00  3e+00  1e-02  5e-01\n",
      " 3:  4.4849e+00  4.0273e+00  5e-01  1e-03  6e-02\n",
      " 4:  4.3851e+00  4.3407e+00  4e-02  5e-16  9e-15\n",
      " 5:  4.3765e+00  4.3740e+00  2e-03  6e-16  6e-15\n",
      " 6:  4.3761e+00  4.3760e+00  1e-04  6e-16  3e-14\n",
      " 7:  4.3761e+00  4.3761e+00  1e-05  5e-16  7e-14\n",
      " 8:  4.3761e+00  4.3761e+00  2e-06  5e-16  4e-15\n",
      "Optimal solution found.\n"
     ]
    }
   ],
   "source": [
    "sol=solvers.qp(Q,q,A,b)"
   ]
  },
  {
   "cell_type": "code",
   "execution_count": 37,
   "metadata": {},
   "outputs": [
    {
     "data": {
      "text/plain": [
       "<14x1 matrix, tc='d'>"
      ]
     },
     "execution_count": 37,
     "metadata": {},
     "output_type": "execute_result"
    }
   ],
   "source": [
    "sol['x']"
   ]
  },
  {
   "cell_type": "code",
   "execution_count": 38,
   "metadata": {
    "collapsed": true
   },
   "outputs": [],
   "source": [
    "ans = np.dot(np.transpose(sol['x']), np.transpose(Xtest_temp))"
   ]
  },
  {
   "cell_type": "code",
   "execution_count": 39,
   "metadata": {},
   "outputs": [
    {
     "data": {
      "text/plain": [
       "array([[-2.07692336,  0.96581196,  3.18803421, -2.07692404, -0.86324787,\n",
       "        -1.30769257,  2.96581196,  2.29914529, -1.15384634,  1.85470084]])"
      ]
     },
     "execution_count": 39,
     "metadata": {},
     "output_type": "execute_result"
    }
   ],
   "source": [
    "ans"
   ]
  }
 ],
 "metadata": {
  "kernelspec": {
   "display_name": "Python 3",
   "language": "python",
   "name": "python3"
  },
  "language_info": {
   "codemirror_mode": {
    "name": "ipython",
    "version": 3
   },
   "file_extension": ".py",
   "mimetype": "text/x-python",
   "name": "python",
   "nbconvert_exporter": "python",
   "pygments_lexer": "ipython3",
   "version": "3.6.1"
  }
 },
 "nbformat": 4,
 "nbformat_minor": 2
}
