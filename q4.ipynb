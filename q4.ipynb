{
 "cells": [
  {
   "cell_type": "code",
   "execution_count": 1,
   "metadata": {
    "collapsed": true
   },
   "outputs": [],
   "source": [
    "import glob\n",
    "import re\n",
    "import numpy as np"
   ]
  },
  {
   "cell_type": "code",
   "execution_count": 2,
   "metadata": {
    "collapsed": true
   },
   "outputs": [],
   "source": [
    "fcf = glob.glob('./*.txt')"
   ]
  },
  {
   "cell_type": "code",
   "execution_count": 3,
   "metadata": {
    "collapsed": true
   },
   "outputs": [],
   "source": [
    "f = open('01.txt','r')\n",
    "text1 = f.read()"
   ]
  },
  {
   "cell_type": "code",
   "execution_count": 4,
   "metadata": {},
   "outputs": [
    {
     "name": "stdout",
     "output_type": "stream",
     "text": [
      "Features:  ['car', 'passenger', 'seat', 'drive', 'power', 'highway', 'purchase', 'hotel', 'room', 'night', 'staff', 'water', 'location']\n"
     ]
    }
   ],
   "source": [
    "f = open('feature.txt','r')\n",
    "features = f.read()\n",
    "features = re.split(r'[` \\n]', features)\n",
    "print(\"Features: \",features)"
   ]
  },
  {
   "cell_type": "code",
   "execution_count": 5,
   "metadata": {
    "collapsed": true
   },
   "outputs": [],
   "source": [
    "Xtrain = []"
   ]
  },
  {
   "cell_type": "code",
   "execution_count": 6,
   "metadata": {
    "collapsed": true
   },
   "outputs": [],
   "source": [
    "file_features = []\n",
    "for feature in features:\n",
    "    occurance = 0\n",
    "    for word in re.split(r'[` \\-=~!@#$%^&*()_+\\[\\]{};\\'\\\\:\"|<,./<>?]', text1):\n",
    "        if word == feature: occurance += 1\n",
    "    file_features.append(occurance)\n",
    "\n",
    "Xtrain.append(file_features)"
   ]
  },
  {
   "cell_type": "code",
   "execution_count": 7,
   "metadata": {},
   "outputs": [
    {
     "name": "stdout",
     "output_type": "stream",
     "text": [
      "Xtrain:  [[1, 1, 1, 0, 1, 1, 0, 0, 0, 0, 0, 0, 0]]\n",
      "['car', 'passenger', 'seat', 'drive', 'power', 'highway', 'purchase', 'hotel', 'room', 'night', 'staff', 'water', 'location']\n"
     ]
    }
   ],
   "source": [
    "print(\"Xtrain: \", Xtrain)\n",
    "print(features)"
   ]
  },
  {
   "cell_type": "code",
   "execution_count": 8,
   "metadata": {
    "collapsed": true
   },
   "outputs": [],
   "source": [
    "Xtrain = []"
   ]
  },
  {
   "cell_type": "code",
   "execution_count": 9,
   "metadata": {
    "collapsed": true
   },
   "outputs": [],
   "source": [
    "for file_number in range(1, 41):\n",
    "    \n",
    "    file_name = \"{:02d}.txt\".format(file_number)\n",
    "    f = open(file_name,'r')\n",
    "    text = f.read()\n",
    "    \n",
    "    file_features = []\n",
    "    for feature in features:\n",
    "        occurance = 0\n",
    "        for word in re.split(r'[` \\-=~!@#$%^&*()_+\\[\\]{};\\'\\\\:\"|<,./<>?]', text):\n",
    "            if word == feature: occurance += 1 \n",
    "        file_features.append(occurance)\n",
    "        \n",
    "    Xtrain.append(file_features)"
   ]
  },
  {
   "cell_type": "code",
   "execution_count": 10,
   "metadata": {},
   "outputs": [
    {
     "data": {
      "text/plain": [
       "(40, 13)"
      ]
     },
     "execution_count": 10,
     "metadata": {},
     "output_type": "execute_result"
    }
   ],
   "source": [
    "Xtrain = np.asarray(Xtrain)\n",
    "Xtrain.shape"
   ]
  },
  {
   "cell_type": "code",
   "execution_count": 11,
   "metadata": {
    "collapsed": true
   },
   "outputs": [],
   "source": [
    "Xtest = []"
   ]
  },
  {
   "cell_type": "code",
   "execution_count": 12,
   "metadata": {
    "collapsed": true
   },
   "outputs": [],
   "source": [
    "for file_number in range(41, 51):\n",
    "    \n",
    "    file_name = \"{:02d}.txt\".format(file_number)\n",
    "    f = open(file_name,'r')\n",
    "    text = f.read()\n",
    "    \n",
    "    file_features = []\n",
    "    for feature in features:\n",
    "        occurance = 0\n",
    "        for word in re.split(r'[` \\-=~!@#$%^&*()_+\\[\\]{};\\'\\\\:\"|<,./<>?]', text):\n",
    "            if word == feature: occurance += 1 \n",
    "        file_features.append(occurance)\n",
    "        \n",
    "    Xtest.append(file_features)"
   ]
  },
  {
   "cell_type": "code",
   "execution_count": 13,
   "metadata": {},
   "outputs": [
    {
     "data": {
      "text/plain": [
       "(10, 13)"
      ]
     },
     "execution_count": 13,
     "metadata": {},
     "output_type": "execute_result"
    }
   ],
   "source": [
    "Xtest = np.asarray(Xtest)\n",
    "Xtest.shape"
   ]
  },
  {
   "cell_type": "markdown",
   "metadata": {},
   "source": [
    "# Q4"
   ]
  },
  {
   "cell_type": "code",
   "execution_count": 14,
   "metadata": {
    "collapsed": true
   },
   "outputs": [],
   "source": [
    "import matplotlib.pyplot as plt\n",
    "import matplotlib.colors\n",
    "from cvxopt import solvers\n",
    "from cvxopt import matrix"
   ]
  },
  {
   "cell_type": "markdown",
   "metadata": {},
   "source": [
    "## Two Features"
   ]
  },
  {
   "cell_type": "code",
   "execution_count": 15,
   "metadata": {},
   "outputs": [
    {
     "data": {
      "text/plain": [
       "(40, 3)"
      ]
     },
     "execution_count": 15,
     "metadata": {},
     "output_type": "execute_result"
    }
   ],
   "source": [
    "# choose only \"car\" and \"hotel\" features for the train data\n",
    "Xtrain_two = np.concatenate((Xtrain[:20, [0,7]], -Xtrain[20:, [0, 7]]))\n",
    "\n",
    "Y_two = np.append( np.ones((1, 20)), -np.ones((1, 20)))\n",
    "Y_two = Y_two.reshape(40,1)\n",
    "Y_two = np.concatenate((Y_two,Xtrain_two), axis=1)\n",
    "\n",
    "Y_two.shape"
   ]
  },
  {
   "cell_type": "code",
   "execution_count": 16,
   "metadata": {
    "collapsed": true
   },
   "outputs": [],
   "source": [
    "# choosing \"car\" and \"hotel\" features only for the test data\n",
    "Xtest_two = np.concatenate((np.ones((10, 1)),Xtest[:, [0,7]]), axis=1)"
   ]
  },
  {
   "cell_type": "markdown",
   "metadata": {},
   "source": [
    "### Using Perceptron"
   ]
  },
  {
   "cell_type": "code",
   "execution_count": 17,
   "metadata": {},
   "outputs": [
    {
     "name": "stdout",
     "output_type": "stream",
     "text": [
      "Final a = [[  2.  37. -33.]] after k=1000 iterations\n"
     ]
    }
   ],
   "source": [
    "a=np.zeros((Y_two.shape[1],1))\n",
    "\n",
    "# no. of misclassified samples\n",
    "sum_wrong=1\n",
    "\n",
    "#Perceptron\n",
    "a_iter=a\n",
    "k=0\n",
    "\n",
    "while sum_wrong>0 and k<1000:\n",
    "    \n",
    "    wrong=np.dot(Y_two,a_iter)<=0\n",
    "    sum_wrong=sum(wrong)\n",
    "    sum1=sum(wrong*np.ones((1,Y_two.shape[1]))*Y_two)    \n",
    "    a_iter=a_iter+sum1.reshape(Y_two.shape[1],1)\n",
    "    \n",
    "    k=k+1\n",
    "\n",
    "print(\"Final a = {} after k={} iterations\".format(np.transpose(a_iter), k, ))"
   ]
  },
  {
   "cell_type": "markdown",
   "metadata": {},
   "source": [
    "#### Perceptron does not converge with two features since this dataset contains an observation 0,0 [car, hotel] which belongs to both classes. This means that there is data with neither of the keywords \"car\" and \"hotel\" which belong to both the classes, and it is difficult for the perceptron, a linear classifier, to classify the data. Thus, the classifier cannot be obtained"
   ]
  },
  {
   "cell_type": "markdown",
   "metadata": {},
   "source": [
    "### Using SVM"
   ]
  },
  {
   "cell_type": "code",
   "execution_count": 18,
   "metadata": {
    "collapsed": true
   },
   "outputs": [],
   "source": [
    "A=matrix(Y_two,tc='d')\n",
    "b=matrix(-1*np.ones((A.size[0],1)),tc='d')\n",
    "\n",
    "q1=np.zeros((1,A.size[1]))\n",
    "Q2=np.concatenate((np.zeros((Xtrain_two.shape[1],1)), np.eye(Xtrain_two.shape[1])),axis=1)\n",
    "Q=np.concatenate((q1,Q2),axis=0)\n",
    "Q=matrix(2*Q,tc='d')\n",
    "\n",
    "q=matrix(np.zeros((A.size[1],1)),tc='d')"
   ]
  },
  {
   "cell_type": "code",
   "execution_count": 19,
   "metadata": {
    "collapsed": true
   },
   "outputs": [],
   "source": [
    "solvers.options['show_progress'] = False\n",
    "sol=solvers.qp(Q,q,A,b)"
   ]
  },
  {
   "cell_type": "markdown",
   "metadata": {},
   "source": [
    "#### SVM does not converge with two features since this dataset containains an observation 0,0 [car, hotel] which belongs to both classes. This means that there is data with neither of the keywords \"car\" and \"hotel\" which belong to both the classes, and it is difficult for the linear version of SVM to classify the data. Thus, we cannot obtain the classifier."
   ]
  },
  {
   "cell_type": "markdown",
   "metadata": {},
   "source": [
    "### Testing accuracy"
   ]
  },
  {
   "cell_type": "code",
   "execution_count": 20,
   "metadata": {
    "collapsed": true
   },
   "outputs": [],
   "source": [
    "Y_true = [0,1,1,0,0,0,1,1,0,1]\n",
    "\n",
    "for i, val in enumerate(Y_true):\n",
    "    if val == 0:\n",
    "        Y_true[i] = -1"
   ]
  },
  {
   "cell_type": "code",
   "execution_count": 21,
   "metadata": {},
   "outputs": [
    {
     "name": "stdout",
     "output_type": "stream",
     "text": [
      "Accuracy is equal to 70.0 percent\n",
      "Note: the classifier did not converge\n"
     ]
    }
   ],
   "source": [
    "#Perceptron classifier\n",
    "a_con_p=a_iter\n",
    "ans = np.dot(np.transpose(a_con_p), np.transpose(Xtest_two))\n",
    "match = sum([1 for i in range(len(Y_true)) if Y_true[i]*ans[0][i] < 0])\n",
    "print(\"Accuracy is equal to {} percent\".format(match/len(Y_true)*100))\n",
    "print(\"Note: the classifier did not converge\")"
   ]
  },
  {
   "cell_type": "code",
   "execution_count": 22,
   "metadata": {},
   "outputs": [
    {
     "name": "stdout",
     "output_type": "stream",
     "text": [
      "Accuracy is equal to 90.0 percent\n",
      "Note: the classifier did not converge\n"
     ]
    }
   ],
   "source": [
    "#SVM classifier\n",
    "a_con_s=sol['x']\n",
    "ans = np.dot(np.transpose(a_con_s), np.transpose(Xtest_two))\n",
    "match = sum([1 for i in range(len(Y_true)) if Y_true[i]*ans[0][i] > 0])\n",
    "print(\"Accuracy is equal to {} percent\".format(match/len(Y_true)*100))\n",
    "print(\"Note: the classifier did not converge\")"
   ]
  },
  {
   "cell_type": "markdown",
   "metadata": {},
   "source": [
    "## All Features"
   ]
  },
  {
   "cell_type": "code",
   "execution_count": 23,
   "metadata": {},
   "outputs": [
    {
     "data": {
      "text/plain": [
       "(40, 14)"
      ]
     },
     "execution_count": 23,
     "metadata": {},
     "output_type": "execute_result"
    }
   ],
   "source": [
    "# choose all features for the train data\n",
    "Xtrain_all = np.concatenate((Xtrain[:20], -Xtrain[20:]))\n",
    "\n",
    "Y_all = np.append( np.ones((1, 20)), -np.ones((1, 20)))\n",
    "Y_all = Y_all.reshape(40,1)\n",
    "Y_all = np.concatenate((Y_all,Xtrain_all), axis=1)\n",
    "\n",
    "Y_all.shape"
   ]
  },
  {
   "cell_type": "code",
   "execution_count": 24,
   "metadata": {},
   "outputs": [
    {
     "data": {
      "text/plain": [
       "(10, 14)"
      ]
     },
     "execution_count": 24,
     "metadata": {},
     "output_type": "execute_result"
    }
   ],
   "source": [
    "# choosing all features for the test data\n",
    "Xtest_all = np.concatenate((np.ones((10, 1)),Xtest), axis=1)\n",
    "\n",
    "Xtest_all.shape"
   ]
  },
  {
   "cell_type": "markdown",
   "metadata": {},
   "source": [
    "### Using Perceptron"
   ]
  },
  {
   "cell_type": "code",
   "execution_count": 25,
   "metadata": {},
   "outputs": [
    {
     "name": "stdout",
     "output_type": "stream",
     "text": [
      "Final a = [[  1.  37.   2.   5.   8.   6.   5.   3. -33. -30.  -5.  -9.  -1. -15.]] after k=3 iterations\n"
     ]
    }
   ],
   "source": [
    "a=np.zeros((Y_all.shape[1],1))\n",
    "\n",
    "# no. of misclassified samples\n",
    "sum_wrong=1\n",
    "\n",
    "#Perceptron\n",
    "a_iter=a\n",
    "k=0\n",
    "\n",
    "while sum_wrong>0 and k<1000:\n",
    "    \n",
    "    wrong=np.dot(Y_all,a_iter)<=0\n",
    "    sum_wrong=sum(wrong)\n",
    "    sum1=sum(wrong*np.ones((1,Y_all.shape[1]))*Y_all)    \n",
    "    a_iter=a_iter+sum1.reshape(Y_all.shape[1],1)\n",
    "    \n",
    "    k=k+1\n",
    "\n",
    "print(\"Final a = {} after k={} iterations\".format(np.transpose(a_iter), k, ))"
   ]
  },
  {
   "cell_type": "markdown",
   "metadata": {},
   "source": [
    "### Using SVM"
   ]
  },
  {
   "cell_type": "code",
   "execution_count": 26,
   "metadata": {
    "collapsed": true
   },
   "outputs": [],
   "source": [
    "A=matrix(Y_all,tc='d')\n",
    "b=matrix(-1*np.ones((A.size[0],1)),tc='d')\n",
    "\n",
    "q1=np.zeros((1,A.size[1]))\n",
    "Q2=np.concatenate((np.zeros((Xtrain_all.shape[1],1)), np.eye(Xtrain_all.shape[1])),axis=1)\n",
    "Q=np.concatenate((q1,Q2),axis=0)\n",
    "Q=matrix(2*Q,tc='d')\n",
    "\n",
    "q=matrix(np.zeros((A.size[1],1)),tc='d')"
   ]
  },
  {
   "cell_type": "code",
   "execution_count": 27,
   "metadata": {},
   "outputs": [
    {
     "name": "stdout",
     "output_type": "stream",
     "text": [
      "     pcost       dcost       gap    pres   dres\n",
      " 0:  6.5331e-01  1.8617e+01  1e+02  2e+00  1e+02\n",
      " 1:  4.1640e+00 -1.4621e+01  3e+01  5e-01  3e+01\n",
      " 2:  5.4075e+00  2.5870e+00  3e+00  1e-02  5e-01\n",
      " 3:  4.4849e+00  4.0273e+00  5e-01  1e-03  6e-02\n",
      " 4:  4.3851e+00  4.3407e+00  4e-02  5e-16  9e-15\n",
      " 5:  4.3765e+00  4.3740e+00  2e-03  6e-16  6e-15\n",
      " 6:  4.3761e+00  4.3760e+00  1e-04  6e-16  3e-14\n",
      " 7:  4.3761e+00  4.3761e+00  1e-05  5e-16  7e-14\n",
      " 8:  4.3761e+00  4.3761e+00  2e-06  5e-16  4e-15\n",
      "Optimal solution found.\n"
     ]
    }
   ],
   "source": [
    "solvers.options['show_progress'] = True\n",
    "sol=solvers.qp(Q,q,A,b)"
   ]
  },
  {
   "cell_type": "markdown",
   "metadata": {},
   "source": [
    "### Testing accuracy"
   ]
  },
  {
   "cell_type": "code",
   "execution_count": 28,
   "metadata": {},
   "outputs": [
    {
     "name": "stdout",
     "output_type": "stream",
     "text": [
      "Accuracy is equal to 90.0 percent\n",
      "Note: the classifier converged after 3 iterations\n"
     ]
    }
   ],
   "source": [
    "#Perceptron classifier\n",
    "a_con_p=a_iter\n",
    "ans = np.dot(np.transpose(a_con_p), np.transpose(Xtest_all))\n",
    "match = sum([1 for i in range(len(Y_true)) if Y_true[i]*ans[0][i] < 0])\n",
    "print(\"Accuracy is equal to {} percent\".format(match/len(Y_true)*100))\n",
    "print(\"Note: the classifier converged after 3 iterations\")"
   ]
  },
  {
   "cell_type": "code",
   "execution_count": 29,
   "metadata": {},
   "outputs": [
    {
     "name": "stdout",
     "output_type": "stream",
     "text": [
      "Accuracy is equal to 100.0 percent\n",
      "Note: the classifier converged after 8 iterations\n"
     ]
    }
   ],
   "source": [
    "#SVM classifier\n",
    "a_con_s=sol['x']\n",
    "ans = np.dot(np.transpose(a_con_s), np.transpose(Xtest_all))\n",
    "match = sum([1 for i in range(len(Y_true)) if Y_true[i]*ans[0][i] > 0])\n",
    "print(\"Accuracy is equal to {} percent\".format(match/len(Y_true)*100))\n",
    "print(\"Note: the classifier converged after 8 iterations\")"
   ]
  }
 ],
 "metadata": {
  "kernelspec": {
   "display_name": "Python 3",
   "language": "python",
   "name": "python3"
  },
  "language_info": {
   "codemirror_mode": {
    "name": "ipython",
    "version": 3
   },
   "file_extension": ".py",
   "mimetype": "text/x-python",
   "name": "python",
   "nbconvert_exporter": "python",
   "pygments_lexer": "ipython3",
   "version": "3.6.1"
  }
 },
 "nbformat": 4,
 "nbformat_minor": 2
}
