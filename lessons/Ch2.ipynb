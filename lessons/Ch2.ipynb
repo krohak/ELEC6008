{
 "cells": [
  {
   "cell_type": "markdown",
   "metadata": {},
   "source": [
    "## Perceptron"
   ]
  },
  {
   "cell_type": "code",
   "execution_count": 1,
   "metadata": {
    "collapsed": true
   },
   "outputs": [],
   "source": [
    "# Import libraries\n",
    "import numpy as np\n",
    "import matplotlib.pyplot as plt\n",
    "import matplotlib.colors\n",
    "\n",
    "from mpl_toolkits import mplot3d"
   ]
  },
  {
   "cell_type": "code",
   "execution_count": 2,
   "metadata": {
    "collapsed": true
   },
   "outputs": [],
   "source": [
    "# X1=np.array([[3,4],[2,3]])\n",
    "# X2=np.array([[10,10], [11,11]])\n",
    "\n",
    "X1=np.array([[3,4],[2,3], [7.5,12.5]])\n",
    "X2=np.array([[10,10], [11,11], [15,15]])\n",
    "\n",
    "X=np.concatenate((X1,X2), axis=0)"
   ]
  },
  {
   "cell_type": "code",
   "execution_count": 3,
   "metadata": {},
   "outputs": [
    {
     "data": {
      "text/plain": [
       "array([[  3. ,   4. ],\n",
       "       [  2. ,   3. ],\n",
       "       [  7.5,  12.5],\n",
       "       [ 10. ,  10. ],\n",
       "       [ 11. ,  11. ],\n",
       "       [ 15. ,  15. ]])"
      ]
     },
     "execution_count": 3,
     "metadata": {},
     "output_type": "execute_result"
    }
   ],
   "source": [
    "X"
   ]
  },
  {
   "cell_type": "code",
   "execution_count": 4,
   "metadata": {
    "collapsed": true
   },
   "outputs": [],
   "source": [
    "Y1=np.concatenate((np.ones((X1.shape[0], 1)),X1), axis=1)\n",
    "Y2=np.concatenate((np.ones((X2.shape[0], 1))*-1,-X2), axis=1)\n",
    "Y=np.concatenate((Y1,Y2), axis=0)"
   ]
  },
  {
   "cell_type": "code",
   "execution_count": 16,
   "metadata": {},
   "outputs": [
    {
     "data": {
      "text/plain": [
       "(6, 3)"
      ]
     },
     "execution_count": 16,
     "metadata": {},
     "output_type": "execute_result"
    }
   ],
   "source": [
    "Y\n",
    "Y.shape"
   ]
  },
  {
   "cell_type": "code",
   "execution_count": 6,
   "metadata": {},
   "outputs": [
    {
     "data": {
      "text/plain": [
       "array([[ 0.],\n",
       "       [ 0.],\n",
       "       [ 0.]])"
      ]
     },
     "execution_count": 6,
     "metadata": {},
     "output_type": "execute_result"
    }
   ],
   "source": [
    "# Initialize\n",
    "a=np.zeros((Y.shape[1],1))\n",
    "a"
   ]
  },
  {
   "cell_type": "code",
   "execution_count": 7,
   "metadata": {
    "collapsed": true
   },
   "outputs": [],
   "source": [
    "# no. of misclassified samples\n",
    "sum_wrong=1\n",
    "\n",
    "#Perceptron\n",
    "a_iter=a\n",
    "k=0"
   ]
  },
  {
   "cell_type": "code",
   "execution_count": 8,
   "metadata": {},
   "outputs": [
    {
     "name": "stdout",
     "output_type": "stream",
     "text": [
      "Final a = [[ 18.  -42.5  34.5]] after k=16 iterations\n"
     ]
    }
   ],
   "source": [
    "while sum_wrong>0 and k<1000:\n",
    "    \n",
    "    wrong=np.dot(Y,a_iter)<=0\n",
    "    \n",
    "#     print(Y,a_iter)\n",
    "#     print(\"np.dot\",np.dot(Y,a_iter))\n",
    "#     print(\"wrong\",wrong)\n",
    "    \n",
    "    sum_wrong=sum(wrong)\n",
    "#     sum1=sum(wrong*Y)\n",
    "    \n",
    "    sum1=sum(wrong*np.ones((1,Y.shape[1]))*Y)\n",
    "#     print(\"Y\", Y)\n",
    "#     print(\"*\", wrong*Y)\n",
    "#     print(\"sum\",sum1,sum1.shape)\n",
    "    \n",
    "    a_iter=a_iter+sum1.reshape(Y.shape[1],1)\n",
    "    \n",
    "    k=k+1\n",
    "\n",
    "print(\"Final a = {} after k={} iterations\".format(np.transpose(a_iter), k, ))"
   ]
  },
  {
   "cell_type": "code",
   "execution_count": 9,
   "metadata": {
    "collapsed": true
   },
   "outputs": [],
   "source": [
    "# x=np.arange(0,100,15)\n",
    "# a_con=a_iter\n",
    "# add = [4]\n",
    "# add = np.asarray(add)\n",
    "# add = np.reshape(add, (1,1))\n",
    "# # # a_con\n",
    "# # # a_con.shape\n",
    "# a_con = np.concatenate((a_con, add))\n",
    "# a_con\n",
    "# # # x\n",
    "# -(a_con[0]+sum(a_con[1:-1]*x))/a_con[-1]"
   ]
  },
  {
   "cell_type": "code",
   "execution_count": 10,
   "metadata": {},
   "outputs": [
    {
     "data": {
      "text/plain": [
       "array([  -0.52173913,   17.95652174,   36.43478261,   54.91304348,\n",
       "         73.39130435,   91.86956522,  110.34782609])"
      ]
     },
     "execution_count": 10,
     "metadata": {},
     "output_type": "execute_result"
    }
   ],
   "source": [
    "a_con=a_iter\n",
    "x=np.arange(0,100,15)\n",
    "# y=-(a_con[0]+a_con[1]*x)/a_con[2]\n",
    "\n",
    "y = -(a_con[0]+sum(a_con[1:-1]*x))/a_con[-1]\n",
    "\n",
    "y"
   ]
  },
  {
   "cell_type": "code",
   "execution_count": null,
   "metadata": {
    "collapsed": true
   },
   "outputs": [],
   "source": []
  },
  {
   "cell_type": "code",
   "execution_count": null,
   "metadata": {
    "collapsed": true
   },
   "outputs": [],
   "source": []
  },
  {
   "cell_type": "code",
   "execution_count": null,
   "metadata": {
    "collapsed": true
   },
   "outputs": [],
   "source": []
  },
  {
   "cell_type": "code",
   "execution_count": 11,
   "metadata": {},
   "outputs": [
    {
     "data": {
      "text/plain": [
       "(0, 20)"
      ]
     },
     "execution_count": 11,
     "metadata": {},
     "output_type": "execute_result"
    }
   ],
   "source": [
    "axes = plt.gca()\n",
    "axes.set_xlim([0,20])\n",
    "axes.set_ylim([0,20])"
   ]
  },
  {
   "cell_type": "code",
   "execution_count": 12,
   "metadata": {
    "collapsed": true
   },
   "outputs": [],
   "source": [
    "# fig = plt.figure()\n",
    "# ax = plt.axes(projection='3d')\n",
    "\n",
    "# ax.plot3D(x, x, y, 'gray')\n",
    "\n",
    "# plt.show()"
   ]
  },
  {
   "cell_type": "code",
   "execution_count": 13,
   "metadata": {},
   "outputs": [
    {
     "data": {
      "image/png": "[encoded data removed]",
      "text/plain": [
       "<matplotlib.figure.Figure at 0x7f669dac8b38>"
      ]
     },
     "metadata": {},
     "output_type": "display_data"
    }
   ],
   "source": [
    "plt.scatter(X[[0,1,2],0], X[[0,1,2],1], color='k')\n",
    "plt.scatter(X[[3,4,5],0], X[[3,4,5],1], color='r')\n",
    "plt.plot(x,y)\n",
    "plt.show()"
   ]
  },
  {
   "cell_type": "code",
   "execution_count": null,
   "metadata": {
    "collapsed": true
   },
   "outputs": [],
   "source": []
  }
 ],
 "metadata": {
  "kernelspec": {
   "display_name": "Python 3",
   "language": "python",
   "name": "python3"
  },
  "language_info": {
   "codemirror_mode": {
    "name": "ipython",
    "version": 3
   },
   "file_extension": ".py",
   "mimetype": "text/x-python",
   "name": "python",
   "nbconvert_exporter": "python",
   "pygments_lexer": "ipython3",
   "version": "3.6.1"
  }
 },
 "nbformat": 4,
 "nbformat_minor": 2
}
